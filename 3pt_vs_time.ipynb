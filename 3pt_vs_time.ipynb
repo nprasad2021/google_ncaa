{
  "nbformat": 4,
  "nbformat_minor": 0,
  "metadata": {
    "colab": {
      "name": "exploratory_ncaa_analysis.ipynb",
      "version": "0.3.2",
      "provenance": [],
      "include_colab_link": true
    },
    "kernelspec": {
      "name": "python3",
      "display_name": "Python 3"
    }
  },
  "cells": [
    {
      "cell_type": "markdown",
      "metadata": {
        "id": "view-in-github",
        "colab_type": "text"
      },
      "source": [
        "<a href=\"https://colab.research.google.com/github/nprasad2021/google_ncaa/blob/master/3pt_vs_time.ipynb\" target=\"_parent\"><img src=\"https://colab.research.google.com/assets/colab-badge.svg\" alt=\"Open In Colab\"/></a>"
      ]
    },
    {
      "metadata": {
        "id": "pIgMOVFvkuC-",
        "colab_type": "code",
        "outputId": "97420f85-8b41-41d7-dd3c-31c2e08eb784",
        "colab": {
          "base_uri": "https://localhost:8080/",
          "height": 34
        }
      },
      "cell_type": "code",
      "source": [
        "from google.colab import auth\n",
        "auth.authenticate_user()\n",
        "print('Authenticated')"
      ],
      "execution_count": 0,
      "outputs": [
        {
          "output_type": "stream",
          "text": [
            "Authenticated\n"
          ],
          "name": "stdout"
        }
      ]
    },
    {
      "metadata": {
        "id": "qD-t8bvWk4he",
        "colab_type": "code",
        "colab": {}
      },
      "cell_type": "code",
      "source": [
        "%%bigquery --project stardust-hackathon df\n",
        "\n",
        "# Produces current season stats for D1 v D1 games only\n",
        "# Filtering on period 0 gives your full game stats\n",
        "\n",
        "SELECT\n",
        "  tbt.season,\n",
        "  tbt.team_code,\n",
        "  MAX(team.school) AS team_name,\n",
        "  COUNT(tbt.team_code) AS games,\n",
        "  MAX(game_date) AS through_game_date,\n",
        "  ROUND(AVG(points),1) AS ppg,\n",
        "  ROUND(AVG(fga), 1) AS fga_avg,\n",
        "  ROUND(AVG(fgm), 1) AS fgm_avg,\n",
        "  ROUND(AVG(fga3), 1) AS fga3_avg,\n",
        "  ROUND(AVG(fgm3), 1) AS fgm3_avg,\n",
        "  ROUND(AVG(fta), 1) AS fta_avg,\n",
        "  ROUND(AVG(ftm), 1) AS ftm_avg\n",
        "FROM\n",
        "  `stardust-hackathon:ncaa_mbb.team_box` AS tbt\n",
        "JOIN\n",
        "  `stardust-hackathon:ncaa_mbb.team_info` AS team\n",
        "ON\n",
        "  team.team_code = tbt.team_code\n",
        "JOIN\n",
        "  `stardust-hackathon:ncaa_mbb.team_info` AS opp\n",
        "ON\n",
        "  tbt.opp_code = opp.team_code\n",
        "WHERE\n",
        "  tbt.season = 2018\n",
        "  AND team.division = 1\n",
        "  AND team.season = 2018\n",
        "  AND opp.division = 1\n",
        "  AND period = 0\n",
        "GROUP BY\n",
        "  season,\n",
        "  team_code\n",
        "ORDER BY\n",
        "  ppg DESC"
      ],
      "execution_count": 0,
      "outputs": []
    }
  ]
}